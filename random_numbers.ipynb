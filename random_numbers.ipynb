{
 "cells": [
  {
   "cell_type": "code",
   "execution_count": 1,
   "id": "64580bb6",
   "metadata": {},
   "outputs": [],
   "source": [
    "import random"
   ]
  },
  {
   "cell_type": "code",
   "execution_count": 2,
   "id": "ea9dc4cc",
   "metadata": {},
   "outputs": [
    {
     "data": {
      "text/plain": [
       "0.0808659190935036"
      ]
     },
     "execution_count": 2,
     "metadata": {},
     "output_type": "execute_result"
    }
   ],
   "source": [
    "# return a float number between 0 an 1\n",
    "random.random()"
   ]
  },
  {
   "cell_type": "code",
   "execution_count": 11,
   "id": "c5924e90",
   "metadata": {},
   "outputs": [
    {
     "data": {
      "text/plain": [
       "65"
      ]
     },
     "execution_count": 11,
     "metadata": {},
     "output_type": "execute_result"
    }
   ],
   "source": [
    "# return integer  between first and last argument - can be equal the extremes\n",
    "random.randint(-90,90)"
   ]
  },
  {
   "cell_type": "code",
   "execution_count": 9,
   "id": "8608a3d7",
   "metadata": {},
   "outputs": [
    {
     "data": {
      "text/plain": [
       "1"
      ]
     },
     "execution_count": 9,
     "metadata": {},
     "output_type": "execute_result"
    }
   ],
   "source": [
    "# integer falls between the arguments, but use steps\n",
    "random.randrange(-9,9,2)"
   ]
  },
  {
   "cell_type": "code",
   "execution_count": 10,
   "id": "bd3fd9ec",
   "metadata": {},
   "outputs": [
    {
     "data": {
      "text/plain": [
       "-7.163476376948021"
      ]
     },
     "execution_count": 10,
     "metadata": {},
     "output_type": "execute_result"
    }
   ],
   "source": [
    "# not a integer with a lot decimal \n",
    "random.uniform(-10,10)"
   ]
  },
  {
   "cell_type": "code",
   "execution_count": 12,
   "id": "6d047b79",
   "metadata": {},
   "outputs": [],
   "source": [
    "# algoritmo to generate ten random floating-point decimal\n",
    "\n",
    "x = 1\n",
    "latitudes = []\n",
    "while x < 11:\n",
    "    random_lat = random.randint(-90, 89) + random.random()\n",
    "    latitudes.append(random_lat)\n",
    "    x += 1"
   ]
  },
  {
   "cell_type": "code",
   "execution_count": 13,
   "id": "7b7ba2e6",
   "metadata": {},
   "outputs": [
    {
     "data": {
      "text/plain": [
       "[-19.246318941455566,\n",
       " -38.21405163167685,\n",
       " -9.131933740471482,\n",
       " -64.7120450127371,\n",
       " -49.45805821340971,\n",
       " -42.407997216681416,\n",
       " -50.02885657496442,\n",
       " 84.38629712546906,\n",
       " 28.356280334027407,\n",
       " 57.9336225843007]"
      ]
     },
     "execution_count": 13,
     "metadata": {},
     "output_type": "execute_result"
    }
   ],
   "source": [
    "latitudes"
   ]
  },
  {
   "cell_type": "code",
   "execution_count": 14,
   "id": "97e953c5",
   "metadata": {},
   "outputs": [
    {
     "data": {
      "text/plain": [
       "-81"
      ]
     },
     "execution_count": 14,
     "metadata": {},
     "output_type": "execute_result"
    }
   ],
   "source": [
    "random.randrange(-90, 90, step=1)"
   ]
  },
  {
   "cell_type": "code",
   "execution_count": 15,
   "id": "23b19b51",
   "metadata": {},
   "outputs": [
    {
     "data": {
      "text/plain": [
       "-54"
      ]
     },
     "execution_count": 15,
     "metadata": {},
     "output_type": "execute_result"
    }
   ],
   "source": [
    "random.randrange(-90, 90, step=3)"
   ]
  },
  {
   "cell_type": "code",
   "execution_count": 16,
   "id": "e57947a0",
   "metadata": {},
   "outputs": [],
   "source": [
    "# Import the NumPy module.\n",
    "import numpy as np"
   ]
  },
  {
   "cell_type": "code",
   "execution_count": 17,
   "id": "bf7d8f77",
   "metadata": {},
   "outputs": [
    {
     "data": {
      "text/plain": [
       "-89.4003622709566"
      ]
     },
     "execution_count": 17,
     "metadata": {},
     "output_type": "execute_result"
    }
   ],
   "source": [
    "np.random.uniform(-90.000, 90.000)"
   ]
  },
  {
   "cell_type": "code",
   "execution_count": 18,
   "id": "fc9ee6d7",
   "metadata": {},
   "outputs": [
    {
     "data": {
      "text/plain": [
       "array([-61.47391898, -75.38561829, -52.03325578, -22.56783102,\n",
       "       -47.67952604,  10.76625942, -20.39737593, -33.77220694,\n",
       "        12.74345524, -76.88871004,  65.0361493 , -35.55077007,\n",
       "        87.14679863,  79.99542667,   9.04412879,  41.86178382,\n",
       "         2.84669675, -79.09403372, -83.36245214, -63.50780307,\n",
       "        29.25672029,  62.72006265, -24.13042714,  63.84258   ,\n",
       "        14.84063926,  76.60873781,  17.55547127,  64.90506582,\n",
       "        84.98044102, -64.51608694,  86.65621197,  45.17154241,\n",
       "       -74.94792841,   0.57500794,  30.70492914,  70.0389755 ,\n",
       "        53.80055643, -86.75104926,  19.58850806,  19.2545712 ,\n",
       "       -56.96722419, -28.03020575,  71.24191029,  66.03108035,\n",
       "        28.03752075, -21.34571112, -49.30392118, -40.10507898,\n",
       "        75.93623561, -53.07944121])"
      ]
     },
     "execution_count": 18,
     "metadata": {},
     "output_type": "execute_result"
    }
   ],
   "source": [
    "# The output is an array of 50 floating-point decimal numbers between –90.000 and 90.000.\n",
    "np.random.uniform(-90.000, 90.000, size=50)"
   ]
  },
  {
   "cell_type": "code",
   "execution_count": 19,
   "id": "33a5d643",
   "metadata": {},
   "outputs": [],
   "source": [
    "# Import timeit.\n",
    "import timeit"
   ]
  },
  {
   "cell_type": "code",
   "execution_count": 20,
   "id": "b92fe120",
   "metadata": {},
   "outputs": [
    {
     "name": "stdout",
     "output_type": "stream",
     "text": [
      "27.2 µs ± 2.39 µs per loop (mean ± std. dev. of 7 runs, 10000 loops each)\n"
     ]
    }
   ],
   "source": [
    "# the output is the amount of time it took to run the code for 7 runs and 1,000 loops per run.\n",
    "%timeit np.random.uniform(-90.000, 90.000, size=1500)"
   ]
  },
  {
   "cell_type": "code",
   "execution_count": 21,
   "id": "2ad827fb",
   "metadata": {},
   "outputs": [
    {
     "name": "stdout",
     "output_type": "stream",
     "text": [
      "4.22 ms ± 438 µs per loop (mean ± std. dev. of 7 runs, 100 loops each)\n"
     ]
    }
   ],
   "source": [
    "def latitudes(size):\n",
    "    latitudes = []\n",
    "    x = 0\n",
    "    while x < (size):\n",
    "        random_lat = random.randint(-90, 90) + random.random()\n",
    "        latitudes.append(random_lat)\n",
    "        x += 1\n",
    "    return latitudes\n",
    "\n",
    "# Call the function with 1500.\n",
    "%timeit latitudes(1500)"
   ]
  },
  {
   "cell_type": "code",
   "execution_count": 27,
   "id": "630debba",
   "metadata": {},
   "outputs": [
    {
     "data": {
      "text/plain": [
       "[-71.174391292416,\n",
       " -46.6089848600698,\n",
       " -41.57454893784762,\n",
       " 83.50335445596866,\n",
       " -29.819793733061044,\n",
       " 73.66122780366557,\n",
       " 54.030011371791666,\n",
       " 59.31794877464996,\n",
       " -17.20610386095496,\n",
       " -25.911789462929406]"
      ]
     },
     "execution_count": 27,
     "metadata": {},
     "output_type": "execute_result"
    }
   ],
   "source": [
    "latitudes(10)"
   ]
  },
  {
   "cell_type": "code",
   "execution_count": 28,
   "id": "3cf89a3a",
   "metadata": {},
   "outputs": [],
   "source": []
  },
  {
   "cell_type": "code",
   "execution_count": null,
   "id": "a82f920a",
   "metadata": {},
   "outputs": [],
   "source": []
  }
 ],
 "metadata": {
  "kernelspec": {
   "display_name": "PythonData",
   "language": "python",
   "name": "pythondata"
  },
  "language_info": {
   "codemirror_mode": {
    "name": "ipython",
    "version": 3
   },
   "file_extension": ".py",
   "mimetype": "text/x-python",
   "name": "python",
   "nbconvert_exporter": "python",
   "pygments_lexer": "ipython3",
   "version": "3.7.11"
  }
 },
 "nbformat": 4,
 "nbformat_minor": 5
}
